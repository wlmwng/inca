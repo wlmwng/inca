{
 "cells": [
  {
   "cell_type": "markdown",
   "metadata": {},
   "source": [
    "# Export documents as JSON and CSV files\n",
    "\n",
    "This notebook provides an example of how the exporter functions in INCA can be used. You might want to use the data you scraped in other programmes, such as STATA or SPSS. In order to do so, you can use one of the export functions to download the data on your own computer. INCA has two options for this: CSV and JSON. For this example we use nu.nl news articles, but you can replace this with your doctype of interest. "
   ]
  },
  {
   "cell_type": "markdown",
   "metadata": {},
   "source": [
    "First of all, we have to instantiate INCA."
   ]
  },
  {
   "cell_type": "code",
   "execution_count": null,
   "metadata": {},
   "outputs": [],
   "source": [
    "from inca import Inca\n",
    "myinca = Inca()"
   ]
  },
  {
   "cell_type": "markdown",
   "metadata": {},
   "source": [
    "We can look at the content of the Elastic Search database by running the following command. You can check whether you have the correct doctype string for your doctype of interest."
   ]
  },
  {
   "cell_type": "code",
   "execution_count": null,
   "metadata": {},
   "outputs": [],
   "source": [
    "myinca.database.list_doctypes()"
   ]
  },
  {
   "cell_type": "markdown",
   "metadata": {},
   "source": [
    "## CSV\n",
    "Below we export the nu.nl articles out of Elastic Search database as a CSV file. "
   ]
  },
  {
   "cell_type": "code",
   "execution_count": null,
   "metadata": {},
   "outputs": [],
   "source": [
    "myinca.importers_exporters.export_csv(query = 'doctype:\"nu\"')"
   ]
  },
  {
   "cell_type": "markdown",
   "metadata": {},
   "source": [
    "__Selecting time period__\n",
    "\n",
    "__(NOTE: I could not test this! Only tested in the terminal.)__\n",
    "It is likely you do not want to export all documents in the database. Thus, we can limit the time period, which can specified in the Elastic Search query using the >, < and = symbols. For instance..."
   ]
  },
  {
   "cell_type": "code",
   "execution_count": null,
   "metadata": {},
   "outputs": [],
   "source": [
    "# exporting all nu.nl articles published after 2016.\n",
    "myinca.importers_exporters.export_csv(query = 'doctype:\"nu\" AND publication_date:>2016')"
   ]
  },
  {
   "cell_type": "code",
   "execution_count": null,
   "metadata": {},
   "outputs": [],
   "source": [
    "# exporting all nu.nl articles published before 2016.\n",
    "myinca.importers_exporters.export_csv(query = 'doctype:\"nu\" AND publication_date:<2016')"
   ]
  },
  {
   "cell_type": "code",
   "execution_count": null,
   "metadata": {},
   "outputs": [],
   "source": [
    "# exporting all nu.nl articles published in 2016 or earlier.\n",
    "myinca.importers_exporters.export_csv(query = 'doctype:\"nu\" AND publication_date:<=2016')"
   ]
  },
  {
   "cell_type": "markdown",
   "metadata": {},
   "source": [
    "It is also possible to combine upper and lower bounds with an AND operator."
   ]
  },
  {
   "cell_type": "code",
   "execution_count": null,
   "metadata": {},
   "outputs": [],
   "source": [
    "# exporting all nu.nl articles published from 2016 to 2018.\n",
    "myinca.importers_exporters.export_csv(query = 'doctype:\"nu\" AND publication_date:(>2016 AND <=2018)')"
   ]
  },
  {
   "cell_type": "markdown",
   "metadata": {},
   "source": [
    "If you want to specify the date even further, you can insert the date like: YYYY-MM-DD"
   ]
  },
  {
   "cell_type": "code",
   "execution_count": null,
   "metadata": {},
   "outputs": [],
   "source": [
    "# exporting all nu.nl articles published on or after June 1, 2016.\n",
    "myinca.importers_exporters.export_csv(query = 'doctype:\"nu\" AND publication_date:>=2016-06-01')"
   ]
  },
  {
   "cell_type": "markdown",
   "metadata": {},
   "source": [
    "__Note:__ Make sure that the date is indeed stored in publication_date. For instance, for youtube_videos, the date is stored under snippet_publishedAt. You can check the fieldnames with the following code:"
   ]
  },
  {
   "cell_type": "code",
   "execution_count": null,
   "metadata": {},
   "outputs": [],
   "source": [
    "myinca.database.doctype_fields('youtube_video')"
   ]
  },
  {
   "cell_type": "markdown",
   "metadata": {},
   "source": [
    "The CSV export function has the following additional options:\n",
    "  *  destination\n",
    "  *  fields\n",
    "  *  include_meta\n",
    "  *  remove_linebreaks\n",
    "  *  delimiter\n",
    "\n",
    "You can use any combination of these parameters."
   ]
  },
  {
   "cell_type": "markdown",
   "metadata": {},
   "source": [
    "__Destination__\n",
    "\n",
    "By default, the function creates a folder named exports in which it stores the output. If we already have a destination folder in which we want to store the CSV file, we can specify the destination parameter."
   ]
  },
  {
   "cell_type": "code",
   "execution_count": null,
   "metadata": {},
   "outputs": [],
   "source": [
    "myinca.importers_exporters.export_csv(query = 'doctype:\"nu\"', destination = '/home/marieke/mycsvfiles')"
   ]
  },
  {
   "cell_type": "markdown",
   "metadata": {},
   "source": [
    "__Fields__\n",
    "\n",
    "By default, all fields are included in the output. Let's say we only want to include the title, text and publication date of the nu.nl articles. You can see the code for this below."
   ]
  },
  {
   "cell_type": "code",
   "execution_count": null,
   "metadata": {},
   "outputs": [],
   "source": [
    "myinca.importers_exporters.export_csv(query = 'doctype:\"nu\" AND publication_date:>2016', fields = [\"title\", \"text\", \"publication_date\"])"
   ]
  },
  {
   "cell_type": "markdown",
   "metadata": {},
   "source": [
    "If you want to see which fields are present in your documents, you can look at them with the following code:"
   ]
  },
  {
   "cell_type": "code",
   "execution_count": null,
   "metadata": {},
   "outputs": [],
   "source": [
    "myinca.database.doctype_fields('nu')"
   ]
  },
  {
   "cell_type": "markdown",
   "metadata": {},
   "source": [
    "__Include_meta__ \n",
    "\n",
    "By default, META is not included in the output. If we do think it is necessary to include this information, we can set this parameter to True."
   ]
  },
  {
   "cell_type": "code",
   "execution_count": null,
   "metadata": {},
   "outputs": [],
   "source": [
    "myinca.importers_exporters.export_csv(query = 'doctype:\"nu\"', include_meta = True)"
   ]
  },
  {
   "cell_type": "markdown",
   "metadata": {},
   "source": [
    "__Remove_linebreaks__\n",
    "\n",
    "By default, all line breaks within cells are replaced by a space. If we want to keep the line breaks, we can set the remove_linebreaks parameter to True."
   ]
  },
  {
   "cell_type": "code",
   "execution_count": null,
   "metadata": {},
   "outputs": [],
   "source": [
    "myinca.importers_exporters.export_csv(query = 'doctype:\"nu\"', remove_linebreaks = True)"
   ]
  },
  {
   "cell_type": "markdown",
   "metadata": {},
   "source": [
    "__Delimiter__\n",
    "\n",
    "By default, the delimiter is set to ':'. European locales of Microsoft Excel use ';' as a delimiter. Therefore, to ensure compatibility, we can set the delimter to a semicolon. "
   ]
  },
  {
   "cell_type": "code",
   "execution_count": null,
   "metadata": {},
   "outputs": [],
   "source": [
    "myinca.importers_exporters.export_csv(query = 'doctype:\"nu\"', delimiter = ';')"
   ]
  },
  {
   "cell_type": "markdown",
   "metadata": {},
   "source": [
    "## JSON\n",
    "For JSON, you have the option to export the documents in one JSON file..."
   ]
  },
  {
   "cell_type": "code",
   "execution_count": null,
   "metadata": {},
   "outputs": [],
   "source": [
    "myinca.importers_exporters.export_json_file(query = 'doctype:\"nu\"')"
   ]
  },
  {
   "cell_type": "markdown",
   "metadata": {},
   "source": [
    "...or to create a JSON file for each document. (This is not recommended, as this can result into a large number of files!)"
   ]
  },
  {
   "cell_type": "code",
   "execution_count": null,
   "metadata": {},
   "outputs": [],
   "source": [
    "myinca.importers_exporters.export_json_files(query = 'doctype:\"nu\"')"
   ]
  },
  {
   "cell_type": "markdown",
   "metadata": {},
   "source": [
    "This function has the following additional options:\n",
    " * destination\n",
    " * compression\n",
    " * include_meta\n",
    "\n",
    "Again, any combination of these parameters is possible."
   ]
  },
  {
   "cell_type": "markdown",
   "metadata": {},
   "source": [
    "__Destination__\n",
    "\n",
    "Similarly to CSV export, you can specify a destination folder in which the output is stored."
   ]
  },
  {
   "cell_type": "code",
   "execution_count": null,
   "metadata": {},
   "outputs": [],
   "source": [
    "myinca.importers_exporters.export_json_file(query = 'doctype:\"nu\"', destination = '/home/marieke/myjsonfiles')"
   ]
  },
  {
   "cell_type": "markdown",
   "metadata": {},
   "source": [
    "__Compression__ \n",
    "\n",
    "By default, the output is not compressed. If we want a gzipped output file, we can set this parameter to 'gz'."
   ]
  },
  {
   "cell_type": "code",
   "execution_count": null,
   "metadata": {},
   "outputs": [],
   "source": [
    "myinca.importers_exporters.export_json_file(query = 'doctype:\"nu\"', compression = 'gz')"
   ]
  },
  {
   "cell_type": "markdown",
   "metadata": {},
   "source": [
    "Or you can export a bzip2 compressed file by setting the parameter to 'bz2'."
   ]
  },
  {
   "cell_type": "code",
   "execution_count": null,
   "metadata": {},
   "outputs": [],
   "source": [
    "myinca.importers_exporters.export_json_file(query = 'doctype:\"nu\"', compression = 'bz2')"
   ]
  },
  {
   "cell_type": "markdown",
   "metadata": {},
   "source": [
    "__Include_meta__ \n",
    "\n",
    "Similar to the CSV export function, the default is set to True. Including META is done by setting this parameter to True."
   ]
  },
  {
   "cell_type": "code",
   "execution_count": null,
   "metadata": {},
   "outputs": [],
   "source": [
    "myinca.importers_exporters.export_json_file(query = 'doctype:\"nu\"', include_meta = True)"
   ]
  },
  {
   "cell_type": "markdown",
   "metadata": {},
   "source": [
    "Of course, it is also possible to select a time period for the JSON exporter in the same way as described for the CSV exporter."
   ]
  },
  {
   "cell_type": "markdown",
   "metadata": {},
   "source": [
    "## Downloading your files\n",
    "\n",
    "Your exported file is now in the exports folder or in your specified folder. Check the box and click download to download the file on your own computer. (Make sure to delete it after downloading to free up space.)"
   ]
  }
 ],
 "metadata": {
  "kernelspec": {
   "display_name": "Python 3",
   "language": "python",
   "name": "python3"
  },
  "language_info": {
   "codemirror_mode": {
    "name": "ipython",
    "version": 3
   },
   "file_extension": ".py",
   "mimetype": "text/x-python",
   "name": "python",
   "nbconvert_exporter": "python",
   "pygments_lexer": "ipython3",
   "version": "3.6.5"
  }
 },
 "nbformat": 4,
 "nbformat_minor": 2
}
